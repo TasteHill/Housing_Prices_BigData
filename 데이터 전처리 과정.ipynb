{
 "cells": [
  {
   "cell_type": "markdown",
   "metadata": {},
   "source": [
    "# 데이터 전처리 과정\n",
    "\n",
    "## 순서\n",
    "1. 데이터 로드\n",
    "2. 카카오 API를 사용한 위도, 경도 추가 함수 정의\n",
    "3. GeoJson을 사용한 행정동 계산 함수 정의\n",
    "4. 원본 데이터프레임으로부터 위도, 경도, 행정동, 단위면적가격을 추가하는 전처리기 정의\n"
   ]
  },
  {
   "cell_type": "markdown",
   "metadata": {},
   "source": [
    "### 1. 데이터 로드\n",
    "가장 중요한 데이터인 집값 데이터를 분석합니다. 이 프로젝트에서는 단독다가구 주택의 월세, 아파트의 매매가를 사용합니다."
   ]
  },
  {
   "cell_type": "markdown",
   "metadata": {},
   "source": [
    "1.단독다가구 주택 및 아파트 매매가의 데이터를 분석합니다.\n",
    "\n",
    "![이미지이름](imgs/단독다가구%20데이터.png)\n",
    "\n",
    "![이미지이름](imgs/아파트%20매매%20데이터.png)\n",
    "\n",
    "데이터를 직접 열어보면 헤더가 index=12 에 위치하는 것을 볼 수 있습니다."
   ]
  },
  {
   "cell_type": "code",
   "execution_count": null,
   "metadata": {},
   "outputs": [
    {
     "name": "stderr",
     "output_type": "stream",
     "text": [
      "g:\\Housing_Prices_BigData\\.venv\\Lib\\site-packages\\openpyxl\\styles\\stylesheet.py:237: UserWarning: Workbook contains no default style, apply openpyxl's default\n",
      "  warn(\"Workbook contains no default style, apply openpyxl's default\")\n",
      "g:\\Housing_Prices_BigData\\.venv\\Lib\\site-packages\\openpyxl\\styles\\stylesheet.py:237: UserWarning: Workbook contains no default style, apply openpyxl's default\n",
      "  warn(\"Workbook contains no default style, apply openpyxl's default\")\n"
     ]
    },
    {
     "name": "stdout",
     "output_type": "stream",
     "text": [
      "   NO            시군구   번지  도로조건  계약면적(㎡) 전월세구분    계약년월  계약일 보증금(만원) 월세금(만원)  \\\n",
      "0   1   서울특별시 중구 신당동  3**  8m미만    33.00    전세  202411   29  11,000       0   \n",
      "1   2  서울특별시 성동구 마장동  3**  8m미만    35.25    월세  202411   29   2,500      60   \n",
      "2   3   서울특별시 중구 신당동   5*  8m미만    46.33    월세  202411   29   2,000      80   \n",
      "3   4  서울특별시 용산구 보광동  2**  8m미만    51.50    전세  202411   29  35,000       0   \n",
      "4   5   서울특별시 중구 신당동  4**  8m미만    22.00    월세  202411   29   3,000      75   \n",
      "\n",
      "     건축년도      도로명           계약기간 계약구분 갱신요구권 사용 종전계약 보증금(만원) 종전계약 월세(만원) 주택유형  \n",
      "0  1991.0  다산로33라길  202407~202607   갱신        -       10,000           0  다가구  \n",
      "1  1992.0   마조로16길  202411~202611   신규        -          NaN         NaN   단독  \n",
      "2  1994.0  다산로36다길  202501~202701   신규        -          NaN         NaN  다가구  \n",
      "3  1992.0   보광로31길  202411~202611   신규        -          NaN         NaN  다가구  \n",
      "4  2017.0  동호로11가길  202411~202611   신규        -          NaN         NaN  다가구  \n",
      "   NO             시군구     번지    본번  부번         단지명  전용면적(㎡)    계약년월  계약일  \\\n",
      "0   1   서울특별시 강서구 공항동  14-10    14  10         스카이  55.2900  202411   29   \n",
      "1   2  서울특별시 구로구 신도림동    642   642   0         대림1  84.9500  202411   28   \n",
      "2   3   서울특별시 금천구 독산동   1140  1140   0   독산동중앙하이츠빌  84.8768  202411   28   \n",
      "3   4   서울특별시 양천구 신월동  987-1   987   1        신월시영  43.2000  202411   28   \n",
      "4   5   서울특별시 노원구 상계동    666   666   0  상계주공10(고층)  49.9400  202411   28   \n",
      "\n",
      "  거래금액(만원)  ...   층  매수자   매도자  건축년도        도로명 해제사유발생일  거래유형          중개사소재지  \\\n",
      "0   33,500  ...   2   개인    개인  2000  공항대로7길 40       -  중개거래          서울 강서구   \n",
      "1   77,000  ...   2   개인    개인  1999    신도림로 16       -   직거래               -   \n",
      "2   73,000  ...  16   개인    개인  2004   범안로 1136       -  중개거래          서울 금천구   \n",
      "3   45,500  ...   4   개인    개인  1988     신월로 99       -  중개거래  서울 강서구, 서울 양천구   \n",
      "4   50,000  ...  10   개인  공공기관  1988    노원로 564       -  중개거래          서울 노원구   \n",
      "\n",
      "  등기일자 주택유형  \n",
      "0    -  아파트  \n",
      "1    -  아파트  \n",
      "2    -  아파트  \n",
      "3    -  아파트  \n",
      "4    -  아파트  \n",
      "\n",
      "[5 rows x 21 columns]\n"
     ]
    }
   ],
   "source": [
    "import pandas as pd\n",
    "\n",
    "api_key = \"****\"\n",
    "\n",
    "#헤더를 12에 설정합니다.\n",
    "rent_df = pd.read_excel('Datas/전월세 데이터/단독다가구/단독다가구(전월세)_실거래가_20241201034300.xlsx', header=12)\n",
    "apartment_df = pd.read_excel('Datas/아파트 매매 데이터/아파트(매매)_실거래가_20241201000540.xlsx', header=12)\n",
    "\n",
    "print(rent_df.head())\n",
    "print(apartment_df.head())"
   ]
  },
  {
   "cell_type": "code",
   "execution_count": 2,
   "metadata": {},
   "outputs": [
    {
     "name": "stdout",
     "output_type": "stream",
     "text": [
      "Index(['NO', '시군구', '번지', '도로조건', '계약면적(㎡)', '전월세구분', '계약년월', '계약일', '보증금(만원)',\n",
      "       '월세금(만원)', '건축년도', '도로명', '계약기간', '계약구분', '갱신요구권 사용', '종전계약 보증금(만원)',\n",
      "       '종전계약 월세(만원)', '주택유형'],\n",
      "      dtype='object')\n"
     ]
    }
   ],
   "source": [
    "print(rent_df.columns)"
   ]
  },
  {
   "cell_type": "markdown",
   "metadata": {},
   "source": [
    "데이터가 정상적으로 출력됨을 알 수 있습니다.   \n",
    "그러나 가장 기준이 되는 행정동 열이 없습니다. 시각화의 기준은 행정동이므로 도로명주소에서 경도와 위도를 추출해야 합니다.   \n",
    "다음과 단계에서 경도와 위도를 추출합니다.   "
   ]
  },
  {
   "cell_type": "markdown",
   "metadata": {},
   "source": [
    "### 2. 카카오 API를 사용한 위도, 경도 추가 함수 정의\n",
    "카카오 API를 사용하여 위도와 경도를 데이터프레임에 추가하는 함수를 정의합니다."
   ]
  },
  {
   "cell_type": "code",
   "execution_count": 3,
   "metadata": {},
   "outputs": [],
   "source": [
    "from tqdm import tqdm\n",
    "import pandas as pd\n",
    "import requests\n",
    "import os\n",
    "import requests\n",
    "\n",
    "##api 요청을 하는 함수.\n",
    "def get_geocoding_api(place, api_key):\n",
    "    ##카카오 api 엔드포인트 설정\n",
    "    url = f\"https://dapi.kakao.com/v2/local/search/address.json?query={place}\"\n",
    "    headers = {\"Authorization\": f\"KakaoAK {api_key}\"}\n",
    "\n",
    "    ##api요청이 성공하면 위도와 경도를 받아오고 실패하면 nan을 대입\n",
    "    response = requests.get(url, headers=headers)\n",
    "    if response.status_code == 200:\n",
    "        result = response.json()\n",
    "        if result[\"documents\"]:\n",
    "            return result[\"documents\"][0][\"y\"], result[\"documents\"][0][\"x\"]\n",
    "    return None, None\n",
    "\n",
    "\n",
    "##원본 데이터프레임에 위도와 경도를 추가하는 함수\n",
    "def get_location(df: pd.DataFrame, location_column: str, api_key: str, cache_file: str = \"location_cache.csv\") -> pd.DataFrame:\n",
    "    ##캐시 파일이 있는 지 확인. 있다면 읽어들임.\n",
    "    if os.path.exists(cache_file):\n",
    "        cache_df = pd.read_csv(cache_file)\n",
    "    else:\n",
    "        cache_df = pd.DataFrame(columns=[\"주소\", \"위도\", \"경도\"])\n",
    "\n",
    "    ##캐시 파일 내부에 중복을 제외한 주소 파악\n",
    "    cached_addresses = set(cache_df[\"주소\"])\n",
    "\n",
    "    ##원본 데이터프레임 내부에 중복은 제외한 주소 파악\n",
    "    unique_addresses = set(df[location_column])\n",
    "\n",
    "    ##새로 요청해야 할 주소들만 추출\n",
    "    new_addresses = unique_addresses - cached_addresses\n",
    "\n",
    "    ##api 함수를 사용하여 새로운 주소에 대한 경도와 위도를 가져옴.\n",
    "    new_data = []\n",
    "    for address in tqdm(new_addresses, desc=\"Fetching new addresses\"):\n",
    "        lat, lng = get_geocoding_api(address, api_key)\n",
    "        if lat and lng is not None:\n",
    "            new_data.append({\"주소\": address, \"위도\": lat, \"경도\": lng})\n",
    "\n",
    "    ##모든 파일에 대해 동일한 작업을 수행한 후 연결\n",
    "    new_df = pd.DataFrame(new_data)\n",
    "    updated_cache_df = pd.concat([cache_df, new_df], ignore_index=True)\n",
    "\n",
    "    ##새로운 주소 캐시를 캐시 파일에 저장\n",
    "    updated_cache_df.to_csv(cache_file, index=False)\n",
    "\n",
    "    ##정제된 데이터프레임을 재사용할 수 있도록 저장.\n",
    "    result_df = df.merge(updated_cache_df, left_on=location_column, right_on=\"주소\", how=\"left\")\n",
    "\n",
    "    return result_df"
   ]
  },
  {
   "cell_type": "markdown",
   "metadata": {},
   "source": [
    "위 함수에서는 각 주택과 아파트의 경도와 위도만을 api로 가져옵니다. 행정동을 파악하려면 경도와 위도를 사용하여 해당 위치가 어느 행정동에 위치하는 지 판별해야 합니다.   \n",
    "다음 단계에서 원본 데이터프레임의 위도와 경도를 사용해 해당하는 행정동을 추가합니다.   "
   ]
  },
  {
   "cell_type": "markdown",
   "metadata": {},
   "source": [
    "### 3. GeoJson을 사용한 행정동 계산 함수 정의\n",
    "위도와 경도, GeoJson 파일을 사용하여 그 위치가 어떤 행정동에 위치하는 지 계산합니다."
   ]
  },
  {
   "cell_type": "code",
   "execution_count": 4,
   "metadata": {},
   "outputs": [],
   "source": [
    "import geopandas as gpd\n",
    "from shapely.geometry import Point\n",
    "import json\n",
    "import chardet\n",
    "from tqdm import tqdm\n",
    "\n",
    "def convert_dong_type(df, geojson_path):\n",
    "    import json\n",
    "    from shapely.geometry import Point\n",
    "    import geopandas as gpd\n",
    "    from tqdm import tqdm\n",
    "\n",
    "    ##GeoJSON 파일 로드 (UTF-8 인코딩)\n",
    "    with open(geojson_path, encoding='utf-8') as f:\n",
    "        geojson_data = json.load(f)\n",
    "\n",
    "    ##GeoDataFrame으로 변환\n",
    "    gdf = gpd.GeoDataFrame.from_features(geojson_data[\"features\"])\n",
    "\n",
    "    ##'dong_name' 필드가 GeoJSON에 포함되어 있어야 함\n",
    "    # if 'dong_name' not in gdf.columns:\n",
    "    #     raise ValueError(\"GeoJSON 파일에 'dong_name' 필드가 포함되어 있지 않습니다.\")\n",
    "\n",
    "    ##DataFrame에 '행정동' 열 추가\n",
    "    df['행정동'] = None\n",
    "\n",
    "    ##각 행의 경도와 위도를 처리\n",
    "    for index, row in tqdm(df.iterrows(), desc='법정동-행정동 변환 중...'):\n",
    "        longitude = row['경도']\n",
    "        latitude = row['위도']\n",
    "        point = Point(longitude, latitude)\n",
    "\n",
    "        ##각 점이 어떤 행정동에 속하는지 판별\n",
    "        found_dong = None\n",
    "        for _, geo_row in gdf.iterrows():\n",
    "            if geo_row['geometry'].contains(point):\n",
    "                found_dong = geo_row['dong_name']\n",
    "                break\n",
    "\n",
    "        ##'행정동' 열에 결과 저장\n",
    "        df.at[index, '행정동'] = found_dong if found_dong else \"Unknown\"\n",
    "\n",
    "    ##결과 반환\n",
    "    return df"
   ]
  },
  {
   "cell_type": "markdown",
   "metadata": {},
   "source": [
    "위 함수를 사용하여 단독다가구 주택과 아파트 매매가의 전처리기를 정의합니다.   \n",
    "이 함수에서는 가장 중요한 요소인 단위면적가격을 계산합니다."
   ]
  },
  {
   "cell_type": "markdown",
   "metadata": {},
   "source": [
    "### 3. 원본 데이터프레임으로부터 위도, 경도, 행정동, 단위면적가격을 추가하는 전처리기 정의\n"
   ]
  },
  {
   "cell_type": "code",
   "execution_count": 5,
   "metadata": {},
   "outputs": [],
   "source": [
    "def get_files(house_type):\n",
    "    ##Main.py 경로\n",
    "    base_dir = os.getcwd()\n",
    "    filepath = os.path.join(base_dir, 'Datas', '전월세 데이터', house_type)\n",
    "    filelist = []\n",
    "\n",
    "    if os.path.exists(filepath):\n",
    "        for root, dirs, files in os.walk(filepath):\n",
    "            for file in files:\n",
    "                filelist.append(os.path.join(root, file))\n",
    "    else:\n",
    "        print(f\"Directory '{filepath}' does not exist.\")\n",
    "    return filelist\n",
    "\n",
    "def housing_monthlyrent_price_preprocessor(count, api_key):\n",
    "    filelist = get_files('단독다가구')\n",
    "\n",
    "    ##빈 데이터프레임 초기화\n",
    "    combined_df = pd.DataFrame()\n",
    "\n",
    "\n",
    "    ##파일 하나씩 읽어와서 합치기\n",
    "    for file in filelist:\n",
    "        try:\n",
    "            df = pd.read_excel(file, header=12)\n",
    "            ##도로명이 없다면 의미가 없으므로 제거\n",
    "            df.dropna(subset='도로명',inplace=True)\n",
    "            ##전세, 월세 중 월세 데이터만 추출\n",
    "            df = df[df['전월세구분'] == '월세']\n",
    "\n",
    "            ##월세금과 계약면적은 숫자이므로 타입 변경\n",
    "            df['월세금(만원)'] = df['월세금(만원)'].str.replace(\",\", \"\").astype(float)  # 쉼표 제거 후 float 변환\n",
    "            df['계약면적(㎡)'] = df['계약면적(㎡)'].astype(float)  # float 변환\n",
    "            ##단위면적가격 계산\n",
    "            df['단위면적가격'] = df['월세금(만원)'] / df['계약면적(㎡)']\n",
    "            combined_df = pd.concat([combined_df, df], ignore_index=True)\n",
    "        except Exception as e:\n",
    "            print(f\"Error processing file {file}: {e}\")\n",
    "\n",
    "    ##데이터 제한(데이터가 30만개 이상일 때, 카카오 API 서버의 하루 할당량 초과)\n",
    "    combined_df = combined_df.iloc[:count]\n",
    "\n",
    "    ##상세주소로 위도, 경도 데이터 가져오기\n",
    "    combined_df = get_location(combined_df, '도로명', api_key)\n",
    "    combined_df = convert_dong_type(combined_df, 'Datas/행정구역/hangjeongdong_서울특별시_with_dong_name.geojson')\n",
    "\n",
    "    ##이상치 제거, 백분율 25%~75% 값을 사용.\n",
    "    Q1 = combined_df['단위면적가격'].quantile(0.25)\n",
    "    Q3 = combined_df['단위면적가격'].quantile(0.75)\n",
    "    IQR = Q3 - Q1\n",
    "    combined_df = combined_df[(combined_df['단위면적가격'] >= (Q1 - 1.5 * IQR)) &\n",
    "                              (combined_df['단위면적가격'] <= (Q3 + 1.5 * IQR))]\n",
    "\n",
    "    ##결측값 제거\n",
    "    combined_df.dropna(how='any',subset=['단위면적가격','경도','위도','행정동'],inplace=True)\n",
    "\n",
    "    combined_df.to_csv('Datas/Refined_Datas/rent_df.csv')\n",
    "    return combined_df\n",
    "\n",
    "\n",
    "\n",
    "##아파트 매매 데이터 전처리기\n",
    "def apartment_trade_preprocessor(count, api_key):\n",
    "    ##아파트 매매 데이터 읽기\n",
    "    df = pd.read_excel('Datas/아파트 매매 데이터/아파트(매매)_실거래가_20241201000540.xlsx',header=12)\n",
    "    ##데이터 수 제한하기\n",
    "    df = df.iloc[:count]\n",
    "\n",
    "    ##데이터 타입 변경\n",
    "    df['거래금액(만원)'] = df['거래금액(만원)'].str.replace(\",\", \"\").astype(float)  # 쉼표 제거 후 float 변환\n",
    "    df['전용면적(㎡)'] = df['전용면적(㎡)'].astype(float)  # float 변환\n",
    "\n",
    "    ##단위면적가격 계산\n",
    "    df['단위면적가격'] = df['거래금액(만원)'] / df['전용면적(㎡)']\n",
    "\n",
    "    ##API함수와 행정동 변환기를 사용하여 경도와 위도, 행정동 열을 추가\n",
    "    df = get_location(df, '도로명', api_key)\n",
    "    df = convert_dong_type(df, 'Datas/행정구역/hangjeongdong_서울특별시_with_dong_name.geojson')\n",
    "\n",
    "    ##결측값 제거\n",
    "    df.dropna(how='any',subset=['단위면적가격','경도','위도','행정동'],inplace=True)\n",
    "\n",
    "    ##이후 재사용을 위해 데이터 저장\n",
    "    df.to_csv('Datas/Refined_Datas/apartment_df.csv')\n",
    "\n",
    "    ##완성된 데이터프레임 반환\n",
    "    return df\n"
   ]
  },
  {
   "cell_type": "markdown",
   "metadata": {},
   "source": [
    "이제 위의 전처리기를 사용하여 데이터를 테스트합니다. 각 데이터에서 행 10개를 처리합니다."
   ]
  },
  {
   "cell_type": "code",
   "execution_count": 6,
   "metadata": {},
   "outputs": [
    {
     "name": "stderr",
     "output_type": "stream",
     "text": [
      "g:\\Housing_Prices_BigData\\.venv\\Lib\\site-packages\\openpyxl\\styles\\stylesheet.py:237: UserWarning: Workbook contains no default style, apply openpyxl's default\n",
      "  warn(\"Workbook contains no default style, apply openpyxl's default\")\n",
      "Fetching new addresses: 0it [00:00, ?it/s]\n",
      "법정동-행정동 변환 중...: 10it [00:00, 1176.79it/s]\n",
      "g:\\Housing_Prices_BigData\\.venv\\Lib\\site-packages\\openpyxl\\styles\\stylesheet.py:237: UserWarning: Workbook contains no default style, apply openpyxl's default\n",
      "  warn(\"Workbook contains no default style, apply openpyxl's default\")\n",
      "Fetching new addresses: 0it [00:00, ?it/s]\n",
      "법정동-행정동 변환 중...: 10it [00:00, 252.01it/s]"
     ]
    },
    {
     "name": "stdout",
     "output_type": "stream",
     "text": [
      "             시군구   번지    단위면적가격          경도         위도  행정동\n",
      "0  서울특별시 성동구 마장동  3**  1.702128  127.043695  37.564788  마장동\n",
      "1   서울특별시 중구 신당동   5*  1.726743  127.019971  37.560154  동화동\n",
      "2   서울특별시 중구 신당동  4**  3.409091  127.008376  37.553052  다산동\n",
      "3  서울특별시 용산구 후암동  3**  1.156292  126.981767  37.547292  후암동\n",
      "4  서울특별시 종로구 혜화동   7*  2.727273  127.001339  37.588463  혜화동\n",
      "              시군구     번지       단위면적가격          경도         위도   행정동\n",
      "0   서울특별시 강서구 공항동  14-10   605.896184  126.813617  37.562589   공항동\n",
      "1  서울특별시 구로구 신도림동    642   906.415539  126.882191  37.505123  신도림동\n",
      "2   서울특별시 금천구 독산동   1140   860.070125  126.888537  37.465331  독산1동\n",
      "3   서울특별시 양천구 신월동  987-1  1053.240741  126.835157  37.518416  신월7동\n",
      "4   서울특별시 노원구 상계동    666  1001.201442  127.056125  37.661652  상계8동\n"
     ]
    },
    {
     "name": "stderr",
     "output_type": "stream",
     "text": [
      "\n"
     ]
    }
   ],
   "source": [
    "rent_df = housing_monthlyrent_price_preprocessor(10, api_key)\n",
    "apartment_df = apartment_trade_preprocessor(10, api_key)\n",
    "\n",
    "print(rent_df[['시군구','번지','단위면적가격','경도','위도','행정동']].head())\n",
    "print(apartment_df[['시군구','번지','단위면적가격','경도','위도','행정동']].head())"
   ]
  },
  {
   "cell_type": "markdown",
   "metadata": {},
   "source": [
    "## 요약   \n",
    "1.원본 데이터를 분석하여 헤더의 위치를 파악합니다.   \n",
    "2.카카오 api 를 사용하여 각 주소의 위도와 경도를 추출합니다.   \n",
    "3.각 위도와 경도를 사용하여 geojson 파일로부터 행정동을 계산합니다.   \n",
    "4.주택과 아파트 데이터로부터 단위면적가격을 계산합니다.   \n",
    "5.전처리기는 완성된 데이터프레임을 반환합니다.   \n"
   ]
  }
 ],
 "metadata": {
  "kernelspec": {
   "display_name": ".venv",
   "language": "python",
   "name": "python3"
  },
  "language_info": {
   "codemirror_mode": {
    "name": "ipython",
    "version": 3
   },
   "file_extension": ".py",
   "mimetype": "text/x-python",
   "name": "python",
   "nbconvert_exporter": "python",
   "pygments_lexer": "ipython3",
   "version": "3.12.5"
  }
 },
 "nbformat": 4,
 "nbformat_minor": 2
}
